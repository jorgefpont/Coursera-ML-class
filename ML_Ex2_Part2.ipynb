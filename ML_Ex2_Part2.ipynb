{
  "nbformat": 4,
  "nbformat_minor": 0,
  "metadata": {
    "colab": {
      "name": "ML Ex2 Part2.ipynb",
      "version": "0.3.2",
      "provenance": [],
      "include_colab_link": true
    },
    "kernelspec": {
      "name": "python3",
      "display_name": "Python 3"
    }
  },
  "cells": [
    {
      "cell_type": "markdown",
      "metadata": {
        "id": "view-in-github",
        "colab_type": "text"
      },
      "source": [
        "<a href=\"https://colab.research.google.com/github/jorgefpont/Coursera-ML-class/blob/master/ML_Ex2_Part2.ipynb\" target=\"_parent\"><img src=\"https://colab.research.google.com/assets/colab-badge.svg\" alt=\"Open In Colab\"/></a>"
      ]
    },
    {
      "metadata": {
        "id": "hy2n631jPVFS",
        "colab_type": "code",
        "colab": {}
      },
      "cell_type": "code",
      "source": [
        "import pandas as pd\n",
        "import matplotlib.pyplot as plt\n",
        "import numpy as np\n",
        "from sklearn.linear_model import LogisticRegression\n",
        "from sklearn.metrics import accuracy_score"
      ],
      "execution_count": 0,
      "outputs": []
    },
    {
      "metadata": {
        "id": "-mFwtldzP6Nq",
        "colab_type": "code",
        "colab": {
          "base_uri": "https://localhost:8080/",
          "height": 527
        },
        "outputId": "a49fff55-65ca-4c7b-cd4f-6282a79c2a7b"
      },
      "cell_type": "code",
      "source": [
        "# load data file from my github repo, ex2data1.txt\n",
        "url = 'https://raw.githubusercontent.com/jorgefpont/Coursera-ML-class/master/machine-learning-ex2/ex2/ex2data2.txt'\n",
        "\n",
        "# load file into pandas data frame\n",
        "data = pd.read_csv(url, header = None)\n",
        "data.columns = [\"Test 1\", \"Test 2\", \"Pass\"]\n",
        "# separate X (features) and y ()\n",
        "X = data.iloc[:,:-1] # read all columns except the last\n",
        "y = data.iloc[:,-1] # read the last column\n",
        "m = len(y) # number of training examples\n",
        "\n",
        "# explore file\n",
        "print(\"type data = \", type(data))\n",
        "print(\"type X = \", type(X))\n",
        "print(\"type y = \", type(y))\n",
        "print()\n",
        "\n",
        "print(data.head(),\"\\n\")\n",
        "print(data.info(),\"\\n\")\n",
        "print(data.describe())"
      ],
      "execution_count": 43,
      "outputs": [
        {
          "output_type": "stream",
          "text": [
            "type data =  <class 'pandas.core.frame.DataFrame'>\n",
            "type X =  <class 'pandas.core.frame.DataFrame'>\n",
            "type y =  <class 'pandas.core.series.Series'>\n",
            "\n",
            "     Test 1   Test 2  Pass\n",
            "0  0.051267  0.69956     1\n",
            "1 -0.092742  0.68494     1\n",
            "2 -0.213710  0.69225     1\n",
            "3 -0.375000  0.50219     1\n",
            "4 -0.513250  0.46564     1 \n",
            "\n",
            "<class 'pandas.core.frame.DataFrame'>\n",
            "RangeIndex: 118 entries, 0 to 117\n",
            "Data columns (total 3 columns):\n",
            "Test 1    118 non-null float64\n",
            "Test 2    118 non-null float64\n",
            "Pass      118 non-null int64\n",
            "dtypes: float64(2), int64(1)\n",
            "memory usage: 2.8 KB\n",
            "None \n",
            "\n",
            "           Test 1      Test 2        Pass\n",
            "count  118.000000  118.000000  118.000000\n",
            "mean     0.054779    0.183102    0.491525\n",
            "std      0.496654    0.519743    0.502060\n",
            "min     -0.830070   -0.769740    0.000000\n",
            "25%     -0.372120   -0.254385    0.000000\n",
            "50%     -0.006336    0.213455    0.000000\n",
            "75%      0.478970    0.646562    1.000000\n",
            "max      1.070900    1.108900    1.000000\n"
          ],
          "name": "stdout"
        }
      ]
    },
    {
      "metadata": {
        "id": "AgakvT5zQxBC",
        "colab_type": "code",
        "colab": {
          "base_uri": "https://localhost:8080/",
          "height": 378
        },
        "outputId": "c44aaad1-7436-45a1-c160-524d21d15269"
      },
      "cell_type": "code",
      "source": [
        "# plot the data\n",
        "# using boolean indexing\n",
        "# not sure why I have to convert to np arry before plotting\n",
        "Pass = data[data['Pass'] == 1]\n",
        "Pass = np.asarray(Pass)\n",
        "notPass = data[data['Pass'] == 0]\n",
        "notPass = np.asarray(notPass)\n",
        "plt.scatter(Pass[:,0], Pass[:,1], color='black', label = 'Pass')\n",
        "plt.scatter(notPass[:,0], notPass[:,1], color='red', label = 'Not Pass')\n",
        "plt.xlabel('Test 1')\n",
        "plt.ylabel('Test 2')\n",
        "print(plt.show)"
      ],
      "execution_count": 44,
      "outputs": [
        {
          "output_type": "stream",
          "text": [
            "<function show at 0x7f5c66b05620>\n"
          ],
          "name": "stdout"
        },
        {
          "output_type": "display_data",
          "data": {
            "image/png": "[encoded data removed]",
            "text/plain": [
              "<Figure size 576x396 with 1 Axes>"
            ]
          },
          "metadata": {
            "tags": []
          }
        }
      ]
    },
    {
      "metadata": {
        "id": "oTF9kf1IUKTT",
        "colab_type": "code",
        "colab": {
          "base_uri": "https://localhost:8080/",
          "height": 136
        },
        "outputId": "ee104559-c4ec-4dba-ec56-25f3419c531e"
      },
      "cell_type": "code",
      "source": [
        "# use scikit learn\n",
        "\n",
        "m, n = X.shape\n",
        "\n",
        "# add column of ones to X\n",
        "#X = np.hstack((np.ones((m,1)), X))\n",
        "\n",
        "# X without ones\n",
        "# fit_intecept = True will add the ones\n",
        "X = np.array(X)\n",
        "\n",
        "# convert y into a proper np vector\n",
        "y = y[:, np.newaxis]\n",
        "\n",
        "clf = LogisticRegression(solver='lbfgs', fit_intercept=True)\n",
        "clf.fit(X, y.flatten())\n",
        "print(clf)\n",
        "print(\"Coefficients = \", clf.coef_)  # get thethetas\n",
        "\n",
        "tst = clf.predict(np.array([[-.50,-.50],[.5,.5],[.25,-.25]]))\n",
        "print(tst)\n",
        "\n",
        "#print(clf.score(X,y)) # accuracy\n",
        "#as = accuracy_score(y,)\n",
        "\n",
        "y_pred = clf.predict(X)\n",
        "\n",
        "accuracy = accuracy_score(y.flatten(), y_pred)\n",
        "print(\"Accuracy = \", accuracy)"
      ],
      "execution_count": 45,
      "outputs": [
        {
          "output_type": "stream",
          "text": [
            "LogisticRegression(C=1.0, class_weight=None, dual=False, fit_intercept=True,\n",
            "          intercept_scaling=1, max_iter=100, multi_class='warn',\n",
            "          n_jobs=None, penalty='l2', random_state=None, solver='lbfgs',\n",
            "          tol=0.0001, verbose=0, warm_start=False)\n",
            "Coefficients =  [[-0.26541433 -0.01162176]]\n",
            "[1 0 0]\n",
            "Accuracy =  0.5423728813559322\n"
          ],
          "name": "stdout"
        }
      ]
    },
    {
      "metadata": {
        "id": "zP-5l8hgWdYc",
        "colab_type": "code",
        "colab": {}
      },
      "cell_type": "code",
      "source": [
        ""
      ],
      "execution_count": 0,
      "outputs": []
    }
  ]
}