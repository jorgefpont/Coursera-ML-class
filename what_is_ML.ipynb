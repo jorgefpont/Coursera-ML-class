{
  "nbformat": 4,
  "nbformat_minor": 0,
  "metadata": {
    "colab": {
      "name": "what is ML.ipynb",
      "version": "0.3.2",
      "provenance": [],
      "collapsed_sections": [],
      "include_colab_link": true
    },
    "kernelspec": {
      "name": "python3",
      "display_name": "Python 3"
    },
    "accelerator": "GPU"
  },
  "cells": [
    {
      "cell_type": "markdown",
      "metadata": {
        "id": "view-in-github",
        "colab_type": "text"
      },
      "source": [
        "<a href=\"https://colab.research.google.com/github/jorgefpont/Coursera-ML-class/blob/master/what_is_ML.ipynb\" target=\"_parent\"><img src=\"https://colab.research.google.com/assets/colab-badge.svg\" alt=\"Open In Colab\"/></a>"
      ]
    },
    {
      "cell_type": "markdown",
      "metadata": {
        "id": "JKB_ViOkCKkC",
        "colab_type": "text"
      },
      "source": [
        "#ML with Scikit Learn and Tensorflow\n",
        "\n",
        "---\n",
        "\n"
      ]
    },
    {
      "cell_type": "markdown",
      "metadata": {
        "id": "M58ccQhpMzso",
        "colab_type": "text"
      },
      "source": [
        "## 1. ML with Scikit\n",
        "\n",
        "---\n",
        "\n",
        "\n",
        "A simple example of solving a linear regression problem using Numpy. Enter the x, y dataset by hand. "
      ]
    },
    {
      "cell_type": "code",
      "metadata": {
        "id": "Z_3RoUDcqqUX",
        "colab_type": "code",
        "colab": {}
      },
      "source": [
        "import pandas as pd\n",
        "import numpy as np\n",
        "import matplotlib.pyplot as plt\n",
        "\n",
        "mySeries = pd.DataFrame({'x': [1.0,2.1,3.1,3.9,5.0,6.0,6.8,7.8,8.9,9.9], \n",
        "                         'y': [6.1,10.5,11.2,12.3,16.0,19.4,21.8,20.1,23.8,21.8]})"
      ],
      "execution_count": 0,
      "outputs": []
    },
    {
      "cell_type": "markdown",
      "metadata": {
        "id": "pGZjL7dbXQh9",
        "colab_type": "text"
      },
      "source": [
        "Prepare the data so we can use it with Numpy\n",
        "* Convert the data into a numpy array\n",
        "* Separate it into an x and a y array (vector in this case)"
      ]
    },
    {
      "cell_type": "code",
      "metadata": {
        "id": "WYEbEvppwIIe",
        "colab_type": "code",
        "colab": {}
      },
      "source": [
        "d = np.array(mySeries)\n",
        "\n",
        "# separate x (1st column) and y (second column)\n",
        "x = np.array(d[:,0])\n",
        "y = np.array(d[:,1])\n",
        "\n",
        "# type into proper arrays (see note above)\n",
        "x = x[:,np.newaxis]\n",
        "y = y[:,np.newaxis]"
      ],
      "execution_count": 0,
      "outputs": []
    },
    {
      "cell_type": "markdown",
      "metadata": {
        "id": "i0UI1SKuX2fN",
        "colab_type": "text"
      },
      "source": [
        "Machine learning ... train the model (fit)\n",
        "* Fit the data to a line using the linear regression model in Scikit.\n",
        "* Print the slope and the intercept (m and b).\n",
        "* Plot the data and the line."
      ]
    },
    {
      "cell_type": "code",
      "metadata": {
        "id": "QHqNVkhmxJpN",
        "colab_type": "code",
        "outputId": "8558a39a-dfab-4897-d411-68a5f9b2b16d",
        "colab": {
          "base_uri": "https://localhost:8080/",
          "height": 363
        }
      },
      "source": [
        "from sklearn import linear_model\n",
        "\n",
        "# fit the data to a line\n",
        "regression_ex = linear_model.LinearRegression()\n",
        "regression_ex.fit(x,y)\n",
        "\n",
        "# dispplay the slope and the intercept\n",
        "slope = regression_ex.coef_.item()\n",
        "intercept = regression_ex.intercept_.item()\n",
        "print(\"slope (m) = \",slope)\n",
        "print(\"y-intercept (b) = \", intercept, '\\n')\n",
        "\n",
        "# plot the data and the line\n",
        "plt.title(\"Linear Regression Example\")\n",
        "plt.ylabel(\"y\")\n",
        "plt.xlabel(\"x\")\n",
        "plt.scatter(x,y)\n",
        "plt.plot((0,10),(intercept,(slope*10 + intercept)), color='red', linewidth=3)"
      ],
      "execution_count": 8,
      "outputs": [
        {
          "output_type": "stream",
          "text": [
            "slope (m) =  1.9304502897904596\n",
            "y-intercept (b) =  5.779045920641998 \n",
            "\n"
          ],
          "name": "stdout"
        },
        {
          "output_type": "execute_result",
          "data": {
            "text/plain": [
              "[<matplotlib.lines.Line2D at 0x7f5599a24a90>]"
            ]
          },
          "metadata": {
            "tags": []
          },
          "execution_count": 8
        },
        {
          "output_type": "display_data",
          "data": {
            "image/png": "[encoded data removed]",
            "text/plain": [
              "<Figure size 432x288 with 1 Axes>"
            ]
          },
          "metadata": {
            "tags": []
          }
        }
      ]
    },
    {
      "cell_type": "markdown",
      "metadata": {
        "id": "m734FbLbd009",
        "colab_type": "text"
      },
      "source": [
        "Now we can do inference. What is the x for a given y?"
      ]
    },
    {
      "cell_type": "code",
      "metadata": {
        "id": "UWEQ4y1onZdE",
        "colab_type": "code",
        "outputId": "f63d9c3a-ec0c-4095-aa04-ad32972f73e8",
        "colab": {
          "base_uri": "https://localhost:8080/",
          "height": 34
        }
      },
      "source": [
        "infer_value = 6\n",
        "print(\"For x = \", infer_value,\", y = \",regression_ex.predict(np.reshape([infer_value],(-1,1))))"
      ],
      "execution_count": 9,
      "outputs": [
        {
          "output_type": "stream",
          "text": [
            "For x =  6 , y =  [[17.36174766]]\n"
          ],
          "name": "stdout"
        }
      ]
    },
    {
      "cell_type": "markdown",
      "metadata": {
        "id": "Loh2Z_NLNbZ0",
        "colab_type": "text"
      },
      "source": [
        "## 2. ML with TensorFlow\n",
        "\n",
        "---\n",
        "\n",
        "Solving the same example using TensorFlow. No pretty plot here."
      ]
    },
    {
      "cell_type": "code",
      "metadata": {
        "id": "cFJ424751ohF",
        "colab_type": "code",
        "outputId": "e549a3b4-657c-4a96-be06-1034925af3d9",
        "colab": {
          "base_uri": "https://localhost:8080/",
          "height": 85
        }
      },
      "source": [
        "import tensorflow as tf\n",
        "from tensorflow import keras\n",
        "\n",
        "# to get rid of a warning message ...\n",
        "import logging\n",
        "logging.getLogger('tensorflow').disabled = True\n",
        "\n",
        "# train the model\n",
        "model = keras.Sequential([keras.layers.Dense(units=1, input_shape=[1])])\n",
        "model.compile(optimizer='sgd', loss='mean_squared_error')\n",
        "model.fit(x, y, epochs=2500, verbose=0)\n",
        "\n",
        "# get the slope 'm' and the y-intercept 'b'\n",
        "weights = model.get_weights()\n",
        "print(\"\\nslope (m) = \",weights[0].item())\n",
        "print(\"y-intercept (b) = \", weights[1].item())\n",
        "\n",
        "# inference\n",
        "infer_value = 10\n",
        "print(\"For x = \", infer_value,\", y = \", model.predict([10.0]).item())\n"
      ],
      "execution_count": 13,
      "outputs": [
        {
          "output_type": "stream",
          "text": [
            "\n",
            "slope (m) =  1.9304789304733276\n",
            "y-intercept (b) =  5.778850078582764\n",
            "For x =  10 , y =  25.08363914489746\n"
          ],
          "name": "stdout"
        }
      ]
    }
  ]
}