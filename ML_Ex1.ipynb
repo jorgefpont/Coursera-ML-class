{
  "nbformat": 4,
  "nbformat_minor": 0,
  "metadata": {
    "colab": {
      "name": "ML Ex1.ipynb",
      "version": "0.3.2",
      "provenance": [],
      "include_colab_link": true
    },
    "kernelspec": {
      "display_name": "Python 3",
      "language": "python",
      "name": "python3"
    }
  },
  "cells": [
    {
      "cell_type": "markdown",
      "metadata": {
        "id": "view-in-github",
        "colab_type": "text"
      },
      "source": [
        "<a href=\"https://colab.research.google.com/github/jorgefpont/Coursera-ML-class/blob/master/ML_Ex1.ipynb\" target=\"_parent\"><img src=\"https://colab.research.google.com/assets/colab-badge.svg\" alt=\"Open In Colab\"/></a>"
      ]
    },
    {
      "metadata": {
        "scrolled": true,
        "id": "_TJweTvvG0sf",
        "colab_type": "code",
        "colab": {}
      },
      "cell_type": "code",
      "source": [
        "import pandas as pd\n",
        "import matplotlib.pyplot as plt\n",
        "import numpy as np"
      ],
      "execution_count": 0,
      "outputs": []
    },
    {
      "metadata": {
        "id": "1IUj8yHtdv3H",
        "colab_type": "text"
      },
      "cell_type": "markdown",
      "source": [
        "**2. Linear Regression with one Variable**\n",
        "\n",
        "\n",
        "---\n",
        "\n",
        "\n",
        "\n"
      ]
    },
    {
      "metadata": {
        "id": "E0ieKR-ZG0su",
        "colab_type": "code",
        "outputId": "a357cba8-a0fc-4857-c8d1-a22f1ec7e292",
        "colab": {
          "base_uri": "https://localhost:8080/",
          "height": 442
        }
      },
      "cell_type": "code",
      "source": [
        "# load data file from my github repo\n",
        "url = 'https://raw.githubusercontent.com/jorgefpont/Coursera-ML-class/master/machine-learning-ex1/ex1/ex1data1.txt'\n",
        "\n",
        "# load file into pandas data frame\n",
        "food_truck = pd.read_csv(url, header = None)\n",
        "\n",
        "# explore file\n",
        "print(food_truck.head(),\"\\n\")\n",
        "print(food_truck.info(),\"\\n\")\n",
        "print(food_truck.describe())"
      ],
      "execution_count": 80,
      "outputs": [
        {
          "output_type": "stream",
          "text": [
            "        0        1\n",
            "0  6.1101  17.5920\n",
            "1  5.5277   9.1302\n",
            "2  8.5186  13.6620\n",
            "3  7.0032  11.8540\n",
            "4  5.8598   6.8233 \n",
            "\n",
            "<class 'pandas.core.frame.DataFrame'>\n",
            "RangeIndex: 97 entries, 0 to 96\n",
            "Data columns (total 2 columns):\n",
            "0    97 non-null float64\n",
            "1    97 non-null float64\n",
            "dtypes: float64(2)\n",
            "memory usage: 1.6 KB\n",
            "None \n",
            "\n",
            "               0          1\n",
            "count  97.000000  97.000000\n",
            "mean    8.159800   5.839135\n",
            "std     3.869884   5.510262\n",
            "min     5.026900  -2.680700\n",
            "25%     5.707700   1.986900\n",
            "50%     6.589400   4.562300\n",
            "75%     8.578100   7.046700\n",
            "max    22.203000  24.147000\n"
          ],
          "name": "stdout"
        }
      ]
    },
    {
      "metadata": {
        "id": "LC61SovfG0s-",
        "colab_type": "code",
        "colab": {}
      },
      "cell_type": "code",
      "source": [
        ""
      ],
      "execution_count": 0,
      "outputs": []
    },
    {
      "metadata": {
        "id": "nd2WMLIMZ1TR",
        "colab_type": "text"
      },
      "cell_type": "markdown",
      "source": [
        "**Note on np.newaxis:** When you read data into X, y you will observe that X, y are rank 1 arrays. rank 1 array will have a shape of (m, ) where as rank 2 arrays will have a shape of (m,1). When operating on arrays its good to convert rank 1 arrays to rank 2 arrays because rank 1 arrays often give unexpected results.\n",
        "To convert rank 1 to rank 2 array we use someArray[:,np.newaxis]"
      ]
    },
    {
      "metadata": {
        "id": "HYCUNGgMG0tC",
        "colab_type": "code",
        "outputId": "058b5ee6-6426-4cbf-c006-6112d4396036",
        "colab": {
          "base_uri": "https://localhost:8080/",
          "height": 376
        }
      },
      "cell_type": "code",
      "source": [
        "# convert csv file to array\n",
        "d = np.array(food_truck)\n",
        "\n",
        "# separate X (1st column) and y (second column)\n",
        "X = np.array(d[:,0])\n",
        "y = np.array(d[:,1])\n",
        "\n",
        "# type into proper arrays (see note above)\n",
        "X = X[:,np.newaxis]\n",
        "y = y[:,np.newaxis]\n",
        "\n",
        "plt.scatter(X, y)\n",
        "plt.title(\"Truck Profit vs. Population\")\n",
        "plt.ylabel(\"Profit per Truck (in $10,000s)\")\n",
        "plt.xlabel(\"Population (in 10,000's)\")\n",
        "plt.show()"
      ],
      "execution_count": 81,
      "outputs": [
        {
          "output_type": "display_data",
          "data": {
            "image/png": "[encoded data removed]",
            "text/plain": [
              "<Figure size 576x396 with 1 Axes>"
            ]
          },
          "metadata": {
            "tags": []
          }
        }
      ]
    },
    {
      "metadata": {
        "id": "1UgX1N6yIcR8",
        "colab_type": "code",
        "colab": {}
      },
      "cell_type": "code",
      "source": [
        "def gradientDescent(X, y, theta, alpha, iterations):\n",
        "  ''' returns both the theta vector and \n",
        "  a list of cost values per iteration'''\n",
        "  \n",
        "  jvec=[]\n",
        "  for iter in range(iterations):\n",
        "      # calc derivatives\n",
        "      del_J = (1/m) * np.dot(np.transpose(X), np.dot(X,theta)-y)\n",
        "      theta = theta - alpha * del_J\n",
        "      jvec.append(costFunction(X,y,theta))\n",
        "  return theta,jvec"
      ],
      "execution_count": 0,
      "outputs": []
    },
    {
      "metadata": {
        "id": "gU2WxyP5bmbW",
        "colab_type": "code",
        "colab": {}
      },
      "cell_type": "code",
      "source": [
        "def costFunction(X, y, theta):\n",
        "  m,n = np.shape(X)  # m=rows, n=cols\n",
        "  J = (1/(2*m)) * ( np.transpose((X@theta)-y) @ ((X@theta)-y) )\n",
        "  return np.asscalar(J)  "
      ],
      "execution_count": 0,
      "outputs": []
    },
    {
      "metadata": {
        "id": "3q2k9Av_G0tI",
        "colab_type": "code",
        "outputId": "6bd28db6-595b-48a5-99a8-a39b63b2f4ae",
        "colab": {
          "base_uri": "https://localhost:8080/",
          "height": 119
        }
      },
      "cell_type": "code",
      "source": [
        "# add column of ones to X\n",
        "m,n = np.shape(X)  # m=rows, n=cols\n",
        "X = np.column_stack((np.ones((m,1)), X))\n",
        "\n",
        "# initialize theta, an n+1 x1 vector\n",
        "# n is the number of features\n",
        "theta = np.zeros((n+1,1))\n",
        "\n",
        "# other parameters\n",
        "alpha=0.01\n",
        "iterations = 1500\n",
        "\n",
        "theta, jvec = gradientDescent(X, y, theta, alpha, iterations)\n",
        "J = costFunction(X,y, theta)\n",
        "\n",
        "print(\"J = \\n\", J)\n",
        "print(\"theta = \\n\", theta)\n",
        "print(m,n)\n",
        "\n",
        "#plt.scatter(*zip(*jvec))\n",
        "#plt.show()"
      ],
      "execution_count": 84,
      "outputs": [
        {
          "output_type": "stream",
          "text": [
            "J = \n",
            " 4.483388256587725\n",
            "theta = \n",
            " [[-3.63029144]\n",
            " [ 1.16636235]]\n",
            "97 1\n"
          ],
          "name": "stdout"
        }
      ]
    },
    {
      "metadata": {
        "id": "GiQ015SKZJq_",
        "colab_type": "text"
      },
      "cell_type": "markdown",
      "source": [
        "**Plot with learned line**"
      ]
    },
    {
      "metadata": {
        "id": "NfiA77k6G0tR",
        "colab_type": "code",
        "outputId": "98597e8a-ecd5-4a10-a7fe-4bb5f8aee072",
        "colab": {
          "base_uri": "https://localhost:8080/",
          "height": 376
        }
      },
      "cell_type": "code",
      "source": [
        "X_ = np.array(d[:,0])\n",
        "y_ = np.array(d[:,1])\n",
        "plt.scatter(X_, y_)\n",
        "# new line\n",
        "plt.plot(X_, np.dot(X, theta))\n",
        "\n",
        "plt.title(\"Truck Profit vs. Population\")\n",
        "plt.ylabel(\"Profit per Truck (in $10,000s)\")\n",
        "plt.xlabel(\"Population (in 10,000's)\")\n",
        "plt.show()"
      ],
      "execution_count": 85,
      "outputs": [
        {
          "output_type": "display_data",
          "data": {
            "image/png": "[encoded data removed]",
            "text/plain": [
              "<Figure size 576x396 with 1 Axes>"
            ]
          },
          "metadata": {
            "tags": []
          }
        }
      ]
    },
    {
      "metadata": {
        "id": "4_D7vxRQG0tU",
        "colab_type": "code",
        "colab": {}
      },
      "cell_type": "code",
      "source": [
        ""
      ],
      "execution_count": 0,
      "outputs": []
    },
    {
      "metadata": {
        "id": "ES05fbraXO7v",
        "colab_type": "text"
      },
      "cell_type": "markdown",
      "source": [
        "**3. Linear Regression with Multiple Variables**\n",
        "\n",
        "\n",
        "---\n",
        "\n",
        "\n",
        "\n",
        "The file ex1data2.txt contains a training set of housing prices in Port-\n",
        "land, Oregon. The first column is the size of the house (in square feet), the\n",
        "second column is the number of bedrooms, and the third column is the price\n",
        "of the house. *italicized text*\n",
        "\n",
        "By looking at the values, note that house sizes are about\n",
        "1000 times the number of bedrooms. When features differ by orders of mag-\n",
        "nitude, first performing feature scaling can make gradient descent converge\n",
        "much more quickly.\n",
        "\n",
        "To feature normalize:\n",
        "(a) Subtract the mean value of each feature from the dataset.\n",
        "(b) After subtracting the mean, additionally scale (divide) the feature values\n",
        "by their respective “standard deviations.”\n",
        "\n",
        "You will do this for all the features and your code should work with\n",
        "datasets of all sizes (any number of features / examples). Note that each\n",
        "column of the matrix X corresponds to one feature. *italicized text*\n"
      ]
    },
    {
      "metadata": {
        "id": "nCKn2PJQfUkX",
        "colab_type": "code",
        "outputId": "414e98cc-788a-4a4e-b554-03a04defd9c7",
        "colab": {
          "base_uri": "https://localhost:8080/",
          "height": 459
        }
      },
      "cell_type": "code",
      "source": [
        "url = 'https://raw.githubusercontent.com/jorgefpont/Coursera-ML-class/master/machine-learning-ex1/ex1/ex1data2.txt'\n",
        "# food_truck = pd.read_csv(\"ex1data1.txt\", header = None)\n",
        "houses = pd.read_csv(url, header = None)\n",
        "print(houses.head(),\"\\n\")\n",
        "print(houses.info(),\"\\n\")\n",
        "print(houses.describe())"
      ],
      "execution_count": 86,
      "outputs": [
        {
          "output_type": "stream",
          "text": [
            "      0  1       2\n",
            "0  2104  3  399900\n",
            "1  1600  3  329900\n",
            "2  2400  3  369000\n",
            "3  1416  2  232000\n",
            "4  3000  4  539900 \n",
            "\n",
            "<class 'pandas.core.frame.DataFrame'>\n",
            "RangeIndex: 47 entries, 0 to 46\n",
            "Data columns (total 3 columns):\n",
            "0    47 non-null int64\n",
            "1    47 non-null int64\n",
            "2    47 non-null int64\n",
            "dtypes: int64(3)\n",
            "memory usage: 1.2 KB\n",
            "None \n",
            "\n",
            "                 0          1              2\n",
            "count    47.000000  47.000000      47.000000\n",
            "mean   2000.680851   3.170213  340412.659574\n",
            "std     794.702354   0.760982  125039.899586\n",
            "min     852.000000   1.000000  169900.000000\n",
            "25%    1432.000000   3.000000  249900.000000\n",
            "50%    1888.000000   3.000000  299900.000000\n",
            "75%    2269.000000   4.000000  384450.000000\n",
            "max    4478.000000   5.000000  699900.000000\n"
          ],
          "name": "stdout"
        }
      ]
    },
    {
      "metadata": {
        "id": "3qEKo6lB8pR4",
        "colab_type": "code",
        "outputId": "2e2a3134-a42a-40c6-e402-a7cf8d5be735",
        "colab": {
          "base_uri": "https://localhost:8080/",
          "height": 136
        }
      },
      "cell_type": "code",
      "source": [
        "# feature normalization in Pandas\n",
        "# for each element in X, subtract the mean of its corresponding column,\n",
        "# divide by the standard deviation of the corresponding column\n",
        "\n",
        "houses[0] = (houses[0] - houses[0].mean()) / houses[0].std()\n",
        "houses[1] = (houses[1] - houses[1].mean()) / houses[1].std()\n",
        "\n",
        "area_mean = houses[0].mean()\n",
        "rooms_mean = houses[1].mean()\n",
        "area_std = houses[0].std()\n",
        "rooms_std = houses[1].mean()\n",
        "\n",
        "print(houses.head(),\"\\n\")"
      ],
      "execution_count": 87,
      "outputs": [
        {
          "output_type": "stream",
          "text": [
            "          0         1       2\n",
            "0  0.130010 -0.223675  399900\n",
            "1 -0.504190 -0.223675  329900\n",
            "2  0.502476 -0.223675  369000\n",
            "3 -0.735723 -1.537767  232000\n",
            "4  1.257476  1.090417  539900 \n",
            "\n"
          ],
          "name": "stdout"
        }
      ]
    },
    {
      "metadata": {
        "id": "bZ-4x7zPgPDs",
        "colab_type": "code",
        "colab": {}
      },
      "cell_type": "code",
      "source": [
        "# convert csv file to array\n",
        "d2 = np.array(houses)\n",
        "\n",
        "# separate X (1st 2 columns) and y (second column)\n",
        "X = np.array(d2[:,0:2])\n",
        "y = np.array(d2[:,2])\n",
        "\n",
        "# type y into proper vector array\n",
        "y = y[:,np.newaxis]\n",
        "\n"
      ],
      "execution_count": 0,
      "outputs": []
    },
    {
      "metadata": {
        "id": "9iWBR5RFgj7K",
        "colab_type": "code",
        "outputId": "a896fa5a-736b-4423-efad-8e474758efcd",
        "colab": {
          "base_uri": "https://localhost:8080/",
          "height": 495
        }
      },
      "cell_type": "code",
      "source": [
        "# add column of ones to X\n",
        "m,n = np.shape(X)  # m=rows, n=cols\n",
        "X = np.column_stack((np.ones((m,1)), X))\n",
        "\n",
        "# initialize theta, an n+1 x1 vector\n",
        "# n is the number of features\n",
        "theta = np.zeros((n+1,1))\n",
        "\n",
        "# other parameters\n",
        "alpha=0.01\n",
        "iterations = 1000\n",
        "\n",
        "theta, jvec = gradientDescent(X, y, theta, alpha, iterations)\n",
        "J = costFunction(X,y, theta)\n",
        "\n",
        "print(\"J = \\n\", J)\n",
        "print(\"theta = \\n\", theta)\n",
        "\n",
        "# plot J vs iteration\n",
        "iter = list(range(1,len(jvec)+1))\n",
        "plt.scatter(iter, jvec)\n",
        "plt.title(\"Cost Function Convergence\")\n",
        "plt.ylabel(\"Cost (J)\")\n",
        "plt.xlabel(\"Iteration\")\n",
        "plt.plot()\n"
      ],
      "execution_count": 89,
      "outputs": [
        {
          "output_type": "stream",
          "text": [
            "J = \n",
            " 2043544218.7812893\n",
            "theta = \n",
            " [[340397.96353532]\n",
            " [109848.00846026]\n",
            " [ -5866.45408497]]\n"
          ],
          "name": "stdout"
        },
        {
          "output_type": "execute_result",
          "data": {
            "text/plain": [
              "[]"
            ]
          },
          "metadata": {
            "tags": []
          },
          "execution_count": 89
        },
        {
          "output_type": "display_data",
          "data": {
            "image/png": "[encoded data removed]",
            "text/plain": [
              "<Figure size 576x396 with 1 Axes>"
            ]
          },
          "metadata": {
            "tags": []
          }
        }
      ]
    },
    {
      "metadata": {
        "id": "F2uqgk_2dtsG",
        "colab_type": "text"
      },
      "cell_type": "markdown",
      "source": [
        ""
      ]
    }
  ]
}