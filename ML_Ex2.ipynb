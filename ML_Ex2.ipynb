{
  "nbformat": 4,
  "nbformat_minor": 0,
  "metadata": {
    "colab": {
      "name": "ML Ex2.ipynb",
      "version": "0.3.2",
      "provenance": [],
      "include_colab_link": true
    },
    "kernelspec": {
      "name": "python3",
      "display_name": "Python 3"
    }
  },
  "cells": [
    {
      "cell_type": "markdown",
      "metadata": {
        "id": "view-in-github",
        "colab_type": "text"
      },
      "source": [
        "<a href=\"https://colab.research.google.com/github/jorgefpont/Coursera-ML-class/blob/master/ML_Ex2.ipynb\" target=\"_parent\"><img src=\"https://colab.research.google.com/assets/colab-badge.svg\" alt=\"Open In Colab\"/></a>"
      ]
    },
    {
      "metadata": {
        "id": "emjDvPbvMxkt",
        "colab_type": "code",
        "colab": {}
      },
      "cell_type": "code",
      "source": [
        "import pandas as pd\n",
        "import matplotlib.pyplot as plt\n",
        "import numpy as np"
      ],
      "execution_count": 0,
      "outputs": []
    },
    {
      "metadata": {
        "id": "5C09El1nQJh8",
        "colab_type": "text"
      },
      "cell_type": "markdown",
      "source": [
        "### 1. Load and explore the data\n",
        "\n",
        "---\n",
        "\n"
      ]
    },
    {
      "metadata": {
        "id": "VYgATLIwNhfN",
        "colab_type": "code",
        "outputId": "2b77bcdb-a1b2-485d-fd45-92204f8c8bba",
        "colab": {
          "base_uri": "https://localhost:8080/",
          "height": 459
        }
      },
      "cell_type": "code",
      "source": [
        "# load data file from my github repo, ex2data1.txt\n",
        "url = 'https://raw.githubusercontent.com/jorgefpont/Coursera-ML-class/master/machine-learning-ex2/ex2/ex2data1.txt'\n",
        "\n",
        "# load file into pandas data frame\n",
        "data = pd.read_csv(url, header = None)\n",
        "X = data.iloc[:,0:2] # read first 2 column\n",
        "y = data.iloc[:,2] # read second columns\n",
        "m = len(y) # number of training example\n",
        "\n",
        "# explore file\n",
        "print(data.head(),\"\\n\")\n",
        "print(data.info(),\"\\n\")\n",
        "print(data.describe())"
      ],
      "execution_count": 0,
      "outputs": [
        {
          "output_type": "stream",
          "text": [
            "           0          1  2\n",
            "0  34.623660  78.024693  0\n",
            "1  30.286711  43.894998  0\n",
            "2  35.847409  72.902198  0\n",
            "3  60.182599  86.308552  1\n",
            "4  79.032736  75.344376  1 \n",
            "\n",
            "<class 'pandas.core.frame.DataFrame'>\n",
            "RangeIndex: 100 entries, 0 to 99\n",
            "Data columns (total 3 columns):\n",
            "0    100 non-null float64\n",
            "1    100 non-null float64\n",
            "2    100 non-null int64\n",
            "dtypes: float64(2), int64(1)\n",
            "memory usage: 2.4 KB\n",
            "None \n",
            "\n",
            "                0           1           2\n",
            "count  100.000000  100.000000  100.000000\n",
            "mean    65.644274   66.221998    0.600000\n",
            "std     19.458222   18.582783    0.492366\n",
            "min     30.058822   30.603263    0.000000\n",
            "25%     50.919511   48.179205    0.000000\n",
            "50%     67.032988   67.682381    1.000000\n",
            "75%     80.212529   79.360605    1.000000\n",
            "max     99.827858   98.869436    1.000000\n"
          ],
          "name": "stdout"
        }
      ]
    },
    {
      "metadata": {
        "id": "ieFTDFDIThWd",
        "colab_type": "text"
      },
      "cell_type": "markdown",
      "source": [
        "Plot the data\n",
        "\n",
        "---\n"
      ]
    },
    {
      "metadata": {
        "id": "fkRGPpWgTlgb",
        "colab_type": "code",
        "outputId": "4709ae1e-26ee-4fa2-9141-955c5b4a96c1",
        "colab": {
          "base_uri": "https://localhost:8080/",
          "height": 361
        }
      },
      "cell_type": "code",
      "source": [
        "plt.scatter(X[0], X[1])\n",
        "plt.xlabel('Test 0')\n",
        "plt.ylabel('Test 1')\n",
        "plt.show()"
      ],
      "execution_count": 0,
      "outputs": [
        {
          "output_type": "display_data",
          "data": {
            "image/png": "[encoded data removed]",
            "text/plain": [
              "<Figure size 576x396 with 1 Axes>"
            ]
          },
          "metadata": {
            "tags": []
          }
        }
      ]
    }
  ]
}